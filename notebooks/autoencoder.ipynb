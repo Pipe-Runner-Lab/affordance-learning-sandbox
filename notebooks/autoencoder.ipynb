{
 "cells": [
  {
   "cell_type": "code",
   "execution_count": 1,
   "id": "890a15d8-d5d2-4423-aa74-a21db99f1fae",
   "metadata": {},
   "outputs": [],
   "source": [
    "import numpy as np"
   ]
  },
  {
   "cell_type": "code",
   "execution_count": 4,
   "id": "ec819812-32c0-415c-be74-683f4d0f3f26",
   "metadata": {},
   "outputs": [],
   "source": [
    "x = np.load('../data/sequence/franka_cabinet_door_left_open.npy')"
   ]
  },
  {
   "cell_type": "code",
   "execution_count": 5,
   "id": "84670864-f7d5-4d53-8ab2-33e6bcabadb6",
   "metadata": {},
   "outputs": [
    {
     "data": {
      "text/plain": [
       "(1151, 500, 11)"
      ]
     },
     "execution_count": 5,
     "metadata": {},
     "output_type": "execute_result"
    }
   ],
   "source": [
    "x.shape"
   ]
  },
  {
   "cell_type": "code",
   "execution_count": null,
   "id": "1f8d8a23-39bc-427f-af6a-db43a0eea1aa",
   "metadata": {},
   "outputs": [],
   "source": []
  }
 ],
 "metadata": {
  "kernelspec": {
   "display_name": "Python 3 (ipykernel)",
   "language": "python",
   "name": "python3"
  },
  "language_info": {
   "codemirror_mode": {
    "name": "ipython",
    "version": 3
   },
   "file_extension": ".py",
   "mimetype": "text/x-python",
   "name": "python",
   "nbconvert_exporter": "python",
   "pygments_lexer": "ipython3",
   "version": "3.10.13"
  }
 },
 "nbformat": 4,
 "nbformat_minor": 5
}
